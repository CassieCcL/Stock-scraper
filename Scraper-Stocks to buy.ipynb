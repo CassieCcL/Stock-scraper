{
 "cells": [
  {
   "cell_type": "code",
   "execution_count": 3,
   "id": "d5e8e5d6",
   "metadata": {},
   "outputs": [],
   "source": [
    "from bs4 import BeautifulSoup as bs\n",
    "import requests\n",
    "import numpy as np\n"
   ]
  },
  {
   "cell_type": "code",
   "execution_count": 35,
   "id": "dcf23bc3",
   "metadata": {},
   "outputs": [
    {
     "name": "stdout",
     "output_type": "stream",
     "text": [
      "<Response [429]>\n"
     ]
    }
   ],
   "source": [
    "page_num = range(1,51)\n",
    "for page in page_num:\n",
    "    url = \"https://www.fool.com/investing-news/?page=\"\n",
    "    query_url = url+str(page)\n",
    "    base_url = \"https:www.fool.com\"\n",
    "    user_agent = 'Mozilla/5.0 (X11; Linux x86_64) AppleWebKit/537.36 (KHTML, like Gecko) Chrome/77.0.3865.90 Safari/537.36'\n",
    "    response = requests.get(\n",
    "        query_url, \n",
    "        headers={'User-Agent': user_agent}\n",
    "    )\n",
    "    print(response)\n",
    "#     soup = bs(response.text, \"html.parser\")\n",
    "#     results = soup.find(\"div\", class_=\"list-content\").find_all(\"a\", {\"data-id\":\"article-list\"})\n",
    "#     for result in results:\n",
    "#         try:\n",
    "#             title = result[\"title\"]\n",
    "# #             if \"Buy\" in title:\n",
    "#             link = base_url + result[\"href\"]\n",
    "#             date = result.find(\"div\", class_=\"story-date-author\").text.split(\"|\")[-1].strip()\n",
    "#             print(title)\n",
    "#             print(link)\n",
    "#             print(date)\n",
    "#             print(\"--------------\")\n",
    "#         except:\n",
    "#             pass\n",
    "        \n",
    "\n",
    "    break\n",
    "\n",
    "\n",
    "\n",
    "\n",
    "\n",
    "\n"
   ]
  },
  {
   "cell_type": "code",
   "execution_count": 17,
   "id": "f555b1f2",
   "metadata": {},
   "outputs": [
    {
     "name": "stdout",
     "output_type": "stream",
     "text": [
      "20\n"
     ]
    }
   ],
   "source": [
    "print(len(results))\n",
    "\n"
   ]
  },
  {
   "cell_type": "code",
   "execution_count": null,
   "id": "e0c12060",
   "metadata": {},
   "outputs": [],
   "source": []
  },
  {
   "cell_type": "code",
   "execution_count": null,
   "id": "3fdc1745",
   "metadata": {},
   "outputs": [],
   "source": []
  },
  {
   "cell_type": "code",
   "execution_count": null,
   "id": "855c24f4",
   "metadata": {},
   "outputs": [],
   "source": []
  },
  {
   "cell_type": "code",
   "execution_count": null,
   "id": "ed14e956",
   "metadata": {},
   "outputs": [],
   "source": []
  }
 ],
 "metadata": {
  "kernelspec": {
   "display_name": "Python 3",
   "language": "python",
   "name": "python3"
  },
  "language_info": {
   "codemirror_mode": {
    "name": "ipython",
    "version": 3
   },
   "file_extension": ".py",
   "mimetype": "text/x-python",
   "name": "python",
   "nbconvert_exporter": "python",
   "pygments_lexer": "ipython3",
   "version": "3.8.8"
  }
 },
 "nbformat": 4,
 "nbformat_minor": 5
}
