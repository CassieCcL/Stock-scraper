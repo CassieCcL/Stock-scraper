{
 "cells": [
  {
   "cell_type": "code",
   "execution_count": 3,
   "id": "9788a7e7",
   "metadata": {},
   "outputs": [],
   "source": [
    "from bs4 import BeautifulSoup as bs\n",
    "import requests\n",
    "import numpy as np\n"
   ]
  },
  {
   "cell_type": "code",
   "execution_count": 20,
   "id": "d7589b2a",
   "metadata": {},
   "outputs": [
    {
     "name": "stdout",
     "output_type": "stream",
     "text": [
      "Why Palantir Stock Dropped 24.3% in April\n",
      "Travel Is Back and These 2 Stocks Are Celebrating\n",
      "Why Spotify Stock Tanked 32.7% in April\n",
      "Spirit Rejects JetBlue Takeover Bid to Side With Frontier\n",
      "The EU Accuses Apple of Abusing Its Mobile Payments Power\n",
      "I Bonds are Set to Pay 9.6% In Annual Interest Through October\n",
      "Why Sorrento Therapeutics Stock Shot 7% Higher Today\n",
      "A Look at Fantom's Steep Weekend Drop\n",
      "Why Shiba Inu Was Falling Today\n",
      "Why Altria Group Gained 6.4% in April\n",
      "Why UPS Stock Failed to Deliver in April\n",
      "Bored Ape Yacht Club Crashed the Ethereum Network and Is Now Looking for a New Blockchain\n",
      "Should Crypto Investors Be Worried by Solana's Latest Outage?\n",
      "Why Apple Stock Couldn't Keep Up With the Market Today\n",
      "Why Union Pacific Shares Got Off Track in April\n",
      "Why Starbucks Lost 18% of Its Value in April\n",
      "Why Johnson & Johnson Stock Held Steady in April\n",
      "Why Veru Stock Plummeted on Monday\n",
      "Investors Should Start to Question Netflix's Pricing Power\n",
      "Why Green Thumb Industries, Curaleaf, and HEXO Were Falling Today\n"
     ]
    }
   ],
   "source": [
    "page_num = range(1,21)\n",
    "for page in page_num:\n",
    "    url = \"https://www.fool.com/investing-news/?page=\"\n",
    "    query_url = url+page\n",
    "    response = requests.get(url)\n",
    "    soup = bs(response.text, \"html.parser\")\n",
    "    results = soup.find(\"div\", class_=\"list-content\").find_all(\"a\", {\"data-id\":\"article-list\"})\n",
    "    for result in results:\n",
    "        try:\n",
    "            title = result[\"title\"]\n",
    "            link = result[\"href\"]\n",
    "            date = \n",
    "            print(title)\n",
    "        except:\n",
    "            pass\n",
    "\n",
    "\n",
    "\n",
    "\n"
   ]
  },
  {
   "cell_type": "code",
   "execution_count": 17,
   "id": "5f69fd6f",
   "metadata": {},
   "outputs": [
    {
     "name": "stdout",
     "output_type": "stream",
     "text": [
      "20\n"
     ]
    }
   ],
   "source": [
    "print(len(results))\n",
    "\n"
   ]
  },
  {
   "cell_type": "code",
   "execution_count": null,
   "id": "75e75ab5",
   "metadata": {},
   "outputs": [],
   "source": []
  },
  {
   "cell_type": "code",
   "execution_count": null,
   "id": "73fd400e",
   "metadata": {},
   "outputs": [],
   "source": []
  },
  {
   "cell_type": "code",
   "execution_count": null,
   "id": "fc3076cf",
   "metadata": {},
   "outputs": [],
   "source": []
  },
  {
   "cell_type": "code",
   "execution_count": null,
   "id": "ac465c63",
   "metadata": {},
   "outputs": [],
   "source": []
  }
 ],
 "metadata": {
  "kernelspec": {
   "display_name": "Python 3",
   "language": "python",
   "name": "python3"
  },
  "language_info": {
   "codemirror_mode": {
    "name": "ipython",
    "version": 3
   },
   "file_extension": ".py",
   "mimetype": "text/x-python",
   "name": "python",
   "nbconvert_exporter": "python",
   "pygments_lexer": "ipython3",
   "version": "3.8.8"
  }
 },
 "nbformat": 4,
 "nbformat_minor": 5
}
